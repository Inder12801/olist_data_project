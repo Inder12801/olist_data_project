{
 "cells": [
  {
   "cell_type": "code",
   "execution_count": 0,
   "metadata": {
    "application/vnd.databricks.v1+cell": {
     "cellMetadata": {
      "byteLimit": 2048000,
      "rowLimit": 10000
     },
     "inputWidgets": {},
     "nuid": "2f037b08-e597-4b85-89c4-74639a94586d",
     "showTitle": false,
     "tableResultSettingsMap": {},
     "title": ""
    }
   },
   "outputs": [],
   "source": [
    "from pyspark.sql.functions import *\n",
    "\n",
    "storage_account_name = \"saazlearner\"\n",
    "storage_account_key  = dbutils.secrets.get(scope=\"olist_secret_scope\", key=\"sa-access-key\")\n",
    "\n",
    "# Set Spark config\n",
    "spark.conf.set(\n",
    "  f\"fs.azure.account.key.{storage_account_name}.dfs.core.windows.net\",\n",
    "  storage_account_key\n",
    ")\n",
    "src_path = f\"abfss://source@{storage_account_name}.dfs.core.windows.net\"\n",
    "\n",
    "trgt_path = f\"abfss://silver@{storage_account_name}.dfs.core.windows.net\"\n"
   ]
  },
  {
   "cell_type": "code",
   "execution_count": 0,
   "metadata": {
    "application/vnd.databricks.v1+cell": {
     "cellMetadata": {
      "byteLimit": 2048000,
      "rowLimit": 10000
     },
     "inputWidgets": {},
     "nuid": "46ba7bf3-899c-4293-b6fd-da1238aeac63",
     "showTitle": false,
     "tableResultSettingsMap": {},
     "title": ""
    }
   },
   "outputs": [],
   "source": [
    "# Explicit dataset config with desired keys\n",
    "datasets = [\n",
    "    {\"key\": \"customers\", \"file_name\": \"olist_customers_dataset.csv\", \"folder_name\": \"olist_customers\"},\n",
    "    {\"key\": \"geolocation\", \"file_name\": \"olist_geolocation_dataset.csv\", \"folder_name\": \"olist_geolocation\"},\n",
    "    {\"key\": \"order_items\", \"file_name\": \"olist_order_items_dataset.csv\", \"folder_name\": \"olist_order_items\"},\n",
    "    {\"key\": \"order_payments\", \"file_name\": \"olist_order_payments_dataset.csv\", \"folder_name\": \"olist_order_payments\"},\n",
    "    {\"key\": \"order_reviews\", \"file_name\": \"olist_order_reviews_dataset.csv\", \"folder_name\": \"olist_order_reviews\"},\n",
    "    {\"key\": \"orders\", \"file_name\": \"olist_orders_dataset.csv\", \"folder_name\": \"olist_orders\"},\n",
    "    {\"key\": \"products\", \"file_name\": \"olist_products_dataset.csv\", \"folder_name\": \"olist_products\"},\n",
    "    {\"key\": \"sellers\", \"file_name\": \"olist_sellers_dataset.csv\", \"folder_name\": \"olist_sellers\"},\n",
    "    {\"key\": \"product_category_name_translation\", \"file_name\": \"product_category_name_translation.csv\", \"folder_name\": \"product_category_name_translation\"}\n",
    "]\n",
    "\n",
    "dfs = {}   # dictionary to hold all DataFrames\n",
    "\n",
    "for dataset in datasets:\n",
    "    try:\n",
    "        df = (spark.read.format(\"csv\")\n",
    "            #   .option(\"mode\", \"PERMISSIVE\")\n",
    "            #   .option(\"rescuedDataColumn\", \"rescued_data\")\n",
    "              .option(\"header\", \"true\")\n",
    "              .option(\"inferSchema\", \"true\")\n",
    "              .option(\"mergeSchema\", \"true\")\n",
    "              .load(f\"{src_path}/{dataset['folder_name']}\")\n",
    "        )\n",
    "        \n",
    "        dfs[dataset[\"key\"]] = df\n",
    "        print(f\"✅ {dataset['key']} DataFrame created successfully\")\n",
    "        \n",
    "    except Exception as e:\n",
    "        print(f\"❌ Failed to load {dataset['file_name']}: {str(e)}\")\n",
    "\n",
    "# Step 2: Break into individual variables\n",
    "cust_df     = dfs[\"customers\"]\n",
    "orders_df   = dfs[\"orders\"]\n",
    "products_df = dfs[\"products\"]\n",
    "sellers_df  = dfs[\"sellers\"]\n",
    "geoloc_df   = dfs[\"geolocation\"]\n",
    "order_items_df     = dfs[\"order_items\"]\n",
    "order_payments_df  = dfs[\"order_payments\"]\n",
    "order_reviews_df   = dfs[\"order_reviews\"]\n",
    "prod_cat_trans_df  = dfs[\"product_category_name_translation\"]"
   ]
  },
  {
   "cell_type": "code",
   "execution_count": 0,
   "metadata": {
    "application/vnd.databricks.v1+cell": {
     "cellMetadata": {
      "byteLimit": 2048000,
      "rowLimit": 10000
     },
     "inputWidgets": {},
     "nuid": "86a06c7d-47e0-40a4-af40-be81647d7ff6",
     "showTitle": false,
     "tableResultSettingsMap": {},
     "title": ""
    }
   },
   "outputs": [],
   "source": [
    "def limit_show(df):\n",
    "    df.limit(100).display()\n",
    "\n",
    "def dropDupColRows(df):\n",
    "    return df.dropDuplicates().dropna(\"all\")\n",
    "\n",
    "def distinct_cols(df):\n",
    "    distinct_col = set()\n",
    "    for c in df.columns:\n",
    "        distinct_col.add(c)\n",
    "    return list(distinct_col)"
   ]
  },
  {
   "cell_type": "code",
   "execution_count": 0,
   "metadata": {
    "application/vnd.databricks.v1+cell": {
     "cellMetadata": {
      "byteLimit": 2048000,
      "rowLimit": 10000
     },
     "inputWidgets": {},
     "nuid": "da7d304f-e136-4073-bfc2-7ed5fd745b88",
     "showTitle": false,
     "tableResultSettingsMap": {
      "0": {
       "dataGridStateBlob": "{\"version\":1,\"tableState\":{\"columnPinning\":{\"left\":[\"#row_number#\"],\"right\":[]},\"columnSizing\":{},\"columnVisibility\":{}},\"settings\":{\"columns\":{}},\"syncTimestamp\":1757601980353}",
       "filterBlob": null,
       "queryPlanFiltersBlob": null,
       "tableResultIndex": 0
      }
     },
     "title": ""
    }
   },
   "outputs": [],
   "source": [
    "limit_show(prod_cat_trans_df)"
   ]
  },
  {
   "cell_type": "markdown",
   "metadata": {
    "application/vnd.databricks.v1+cell": {
     "cellMetadata": {
      "byteLimit": 2048000,
      "rowLimit": 10000
     },
     "inputWidgets": {},
     "nuid": "87ddef2a-ff7e-45fc-a29b-53106be12ce2",
     "showTitle": false,
     "tableResultSettingsMap": {},
     "title": ""
    }
   },
   "source": [
    "### Data Cleaning"
   ]
  },
  {
   "cell_type": "code",
   "execution_count": 0,
   "metadata": {
    "application/vnd.databricks.v1+cell": {
     "cellMetadata": {
      "byteLimit": 2048000,
      "rowLimit": 10000
     },
     "inputWidgets": {},
     "nuid": "815dd315-cbac-43f2-95c7-23254c532372",
     "showTitle": false,
     "tableResultSettingsMap": {},
     "title": ""
    }
   },
   "outputs": [],
   "source": [
    "orders_df.filter(col(\"order_status\").isNull()).display()"
   ]
  },
  {
   "cell_type": "code",
   "execution_count": 0,
   "metadata": {
    "application/vnd.databricks.v1+cell": {
     "cellMetadata": {
      "byteLimit": 2048000,
      "rowLimit": 10000
     },
     "inputWidgets": {},
     "nuid": "708762b2-fb15-4d93-8363-6d6d41e8a301",
     "showTitle": false,
     "tableResultSettingsMap": {},
     "title": ""
    }
   },
   "outputs": [],
   "source": [
    "# drop duplicates and null rows\n",
    "\n",
    "cust_df     = dropDupColRows(dfs[\"customers\"])\n",
    "orders_df   = dropDupColRows(dfs[\"orders\"])\n",
    "products_df = dropDupColRows(dfs[\"products\"])\n",
    "sellers_df  = dropDupColRows(dfs[\"sellers\"])\n",
    "geoloc_df   = dropDupColRows(dfs[\"geolocation\"])\n",
    "order_items_df     = dropDupColRows(dfs[\"order_items\"])\n",
    "order_payments_df  = dropDupColRows(dfs[\"order_payments\"])\n",
    "order_reviews_df   = dropDupColRows(dfs[\"order_reviews\"])\n",
    "prod_cat_trans_df  = dropDupColRows(dfs[\"product_category_name_translation\"])\n",
    "# limit_show(orders_df)"
   ]
  },
  {
   "cell_type": "code",
   "execution_count": 0,
   "metadata": {
    "application/vnd.databricks.v1+cell": {
     "cellMetadata": {
      "byteLimit": 2048000,
      "rowLimit": 10000
     },
     "inputWidgets": {},
     "nuid": "e7b0544e-28b6-4f9b-86f9-1a297cdef151",
     "showTitle": false,
     "tableResultSettingsMap": {},
     "title": ""
    }
   },
   "outputs": [],
   "source": [
    "order_reviews_df.printSchema()"
   ]
  },
  {
   "cell_type": "code",
   "execution_count": 0,
   "metadata": {
    "application/vnd.databricks.v1+cell": {
     "cellMetadata": {
      "byteLimit": 2048000,
      "rowLimit": 10000
     },
     "inputWidgets": {},
     "nuid": "9c7811e6-71ca-4b73-a9ae-92bfca38d0ce",
     "showTitle": false,
     "tableResultSettingsMap": {},
     "title": ""
    }
   },
   "outputs": [],
   "source": [
    "\n",
    "orders_df = (orders_df\n",
    " .withColumn(\"order_purchase_timestamp\", to_date(col(\"order_purchase_timestamp\"), \"yyyy-MM-dd HH:mm:ss\"))\n",
    " .withColumn(\"order_approved_at\", to_date(col(\"order_approved_at\"), \"yyyy-MM-dd HH:mm:ss\"))\n",
    " .withColumn(\"order_delivered_carrier_date\", to_date(col(\"order_delivered_carrier_date\"), \"yyyy-MM-dd HH:mm:ss\"))\n",
    " .withColumn(\"order_delivered_customer_date\", to_date(col(\"order_delivered_customer_date\"), \"yyyy-MM-dd HH:mm:ss\"))\n",
    " .withColumn(\"order_estimated_delivery_date\", to_date(col(\"order_estimated_delivery_date\"), \"yyyy-MM-dd HH:mm:ss\"))\n",
    " .withColumn(\"actual_delivery_time\", datediff(col(\"order_delivered_customer_date\"), col(\"order_purchase_timestamp\")))\n",
    " .withColumn(\"estimated_delivery_time\", datediff(col(\"order_estimated_delivery_date\"), col(\"order_purchase_timestamp\")))\n",
    " .withColumn(\"order_delay_flag\", col(\"actual_delivery_time\") > col(\"estimated_delivery_time\"))\n",
    ")\n"
   ]
  },
  {
   "cell_type": "code",
   "execution_count": 0,
   "metadata": {
    "application/vnd.databricks.v1+cell": {
     "cellMetadata": {
      "byteLimit": 2048000,
      "rowLimit": 10000
     },
     "inputWidgets": {},
     "nuid": "6cf23bf2-48c8-486b-a1f1-f8b87c2f5b31",
     "showTitle": false,
     "tableResultSettingsMap": {},
     "title": ""
    }
   },
   "outputs": [],
   "source": [
    "order_items_df.display()"
   ]
  },
  {
   "cell_type": "code",
   "execution_count": 0,
   "metadata": {
    "application/vnd.databricks.v1+cell": {
     "cellMetadata": {
      "byteLimit": 2048000,
      "rowLimit": 10000
     },
     "inputWidgets": {},
     "nuid": "799ea0f8-38b5-4bed-9155-e58e54c78ad3",
     "showTitle": false,
     "tableResultSettingsMap": {},
     "title": ""
    }
   },
   "outputs": [],
   "source": [
    "order_items_df = order_items_df.withColumn(\"shipping_limit_date\", to_date(col(\"shipping_limit_date\"), \"yyyy-MM-dd HH:mm:ss\"))"
   ]
  },
  {
   "cell_type": "code",
   "execution_count": 0,
   "metadata": {
    "application/vnd.databricks.v1+cell": {
     "cellMetadata": {
      "byteLimit": 2048000,
      "rowLimit": 10000
     },
     "inputWidgets": {},
     "nuid": "622034ea-cea6-44e3-9126-2b572ba78804",
     "showTitle": false,
     "tableResultSettingsMap": {},
     "title": ""
    }
   },
   "outputs": [],
   "source": [
    "order_reviews_df = order_reviews_df.withColumn(\"review_creation_date\", to_date(col(\"review_creation_date\"), \"yyyy-MM-dd HH:mm:ss\"))\n"
   ]
  },
  {
   "cell_type": "code",
   "execution_count": 0,
   "metadata": {
    "application/vnd.databricks.v1+cell": {
     "cellMetadata": {
      "byteLimit": 2048000,
      "rowLimit": 10000
     },
     "inputWidgets": {},
     "nuid": "4bd9791f-1e55-4a09-972f-bc30b219faf0",
     "showTitle": false,
     "tableResultSettingsMap": {},
     "title": ""
    }
   },
   "outputs": [],
   "source": [
    "order_items_df.orderBy(\"order_id\").display()"
   ]
  },
  {
   "cell_type": "markdown",
   "metadata": {
    "application/vnd.databricks.v1+cell": {
     "cellMetadata": {
      "byteLimit": 2048000,
      "rowLimit": 10000
     },
     "inputWidgets": {},
     "nuid": "408bf471-f737-4b56-aee8-fe778138924d",
     "showTitle": false,
     "tableResultSettingsMap": {},
     "title": ""
    }
   },
   "source": [
    "### Data Joining"
   ]
  },
  {
   "cell_type": "code",
   "execution_count": 0,
   "metadata": {
    "application/vnd.databricks.v1+cell": {
     "cellMetadata": {
      "byteLimit": 2048000,
      "rowLimit": 10000
     },
     "inputWidgets": {},
     "nuid": "f5fc2165-982e-4fc8-a4de-c7aed8e44fe1",
     "showTitle": false,
     "tableResultSettingsMap": {},
     "title": ""
    }
   },
   "outputs": [],
   "source": [
    "spark.conf.set(\"spark.sql.legacy.timeParserPolicy\", \"LEGACY\")\n",
    "\n",
    "orders_cust_df = (orders_df.alias(\"o\").join(cust_df.alias(\"c\"), \"customer_id\",\"left\")\n",
    ")\n",
    "\n",
    "ord_cust_pymnt_df = (orders_cust_df.alias(\"o\").join(order_payments_df.alias(\"p\"), \"order_id\",\"left\")\n",
    "                     .join(order_items_df.alias(\"i\"), \"order_id\",\"left\")\n",
    "                     .join(products_df.alias(\"pr\"), \"product_id\",\"left\")\n",
    "                     .join(sellers_df.alias(\"s\"), \"seller_id\",\"left\")\n",
    "                     .join(prod_cat_trans_df.alias(\"pc\"), \"product_category_name\",\"left\")\n",
    "\n",
    ")\n",
    "#\n",
    "ord_cust_pymnt_df = ord_cust_pymnt_df.select(distinct_cols(ord_cust_pymnt_df))\n",
    "\n",
    "\n"
   ]
  },
  {
   "cell_type": "code",
   "execution_count": 0,
   "metadata": {
    "application/vnd.databricks.v1+cell": {
     "cellMetadata": {
      "byteLimit": 2048000,
      "rowLimit": 10000
     },
     "inputWidgets": {},
     "nuid": "b5aa0385-7695-4b5f-ad5c-0171f3ef0202",
     "showTitle": false,
     "tableResultSettingsMap": {},
     "title": ""
    }
   },
   "outputs": [],
   "source": [
    "ord_cust_pymnt_df.printSchema()"
   ]
  },
  {
   "cell_type": "code",
   "execution_count": 0,
   "metadata": {
    "application/vnd.databricks.v1+cell": {
     "cellMetadata": {
      "byteLimit": 2048000,
      "rowLimit": 10000
     },
     "inputWidgets": {},
     "nuid": "3971b71a-5896-4233-8e18-cf78389017e9",
     "showTitle": false,
     "tableResultSettingsMap": {},
     "title": ""
    }
   },
   "outputs": [],
   "source": [
    "ord_cust_pymnt_df.cache()"
   ]
  },
  {
   "cell_type": "code",
   "execution_count": 0,
   "metadata": {
    "application/vnd.databricks.v1+cell": {
     "cellMetadata": {
      "byteLimit": 2048000,
      "rowLimit": 10000
     },
     "collapsed": true,
     "inputWidgets": {},
     "nuid": "7720d1cb-0bb9-45a6-8b53-8cbc6ccb263b",
     "showTitle": false,
     "tableResultSettingsMap": {},
     "title": ""
    }
   },
   "outputs": [],
   "source": [
    "ord_cust_pymnt_df.unpersist()"
   ]
  },
  {
   "cell_type": "code",
   "execution_count": 0,
   "metadata": {
    "application/vnd.databricks.v1+cell": {
     "cellMetadata": {
      "byteLimit": 2048000,
      "rowLimit": 10000
     },
     "inputWidgets": {},
     "nuid": "b68ae202-6dc6-4adf-ac0b-b1e5f57abe4c",
     "showTitle": false,
     "tableResultSettingsMap": {},
     "title": ""
    }
   },
   "outputs": [],
   "source": [
    "# limit_show(ord_cust_pymnt_df)\n",
    "ord_cust_pymnt_df.display()"
   ]
  },
  {
   "cell_type": "code",
   "execution_count": 0,
   "metadata": {
    "application/vnd.databricks.v1+cell": {
     "cellMetadata": {
      "byteLimit": 2048000,
      "rowLimit": 10000
     },
     "inputWidgets": {},
     "nuid": "ae5ba220-25a4-4d93-9960-bbb593f5cfdb",
     "showTitle": false,
     "tableResultSettingsMap": {},
     "title": ""
    }
   },
   "outputs": [],
   "source": [
    "ord_cust_pymnt_df.dropDuplicates().count()"
   ]
  },
  {
   "cell_type": "code",
   "execution_count": 0,
   "metadata": {
    "application/vnd.databricks.v1+cell": {
     "cellMetadata": {
      "byteLimit": 2048000,
      "rowLimit": 10000
     },
     "inputWidgets": {},
     "nuid": "8c746a63-a3e7-401d-8248-6e4beba70b64",
     "showTitle": false,
     "tableResultSettingsMap": {},
     "title": ""
    }
   },
   "outputs": [],
   "source": [
    "print((ord_cust_pymnt_df.columns))\n"
   ]
  },
  {
   "cell_type": "code",
   "execution_count": 0,
   "metadata": {
    "application/vnd.databricks.v1+cell": {
     "cellMetadata": {
      "byteLimit": 2048000,
      "rowLimit": 10000
     },
     "inputWidgets": {},
     "nuid": "6ce9b3bf-d26f-4ac2-9691-ef8e4c3f1bdd",
     "showTitle": false,
     "tableResultSettingsMap": {},
     "title": ""
    }
   },
   "outputs": [],
   "source": [
    "ord_cust_pymnt_df.write.mode(\"overwrite\").option(\"path\", trgt_path + \"/transformed\")"
   ]
  },
  {
   "cell_type": "code",
   "execution_count": 0,
   "metadata": {
    "application/vnd.databricks.v1+cell": {
     "cellMetadata": {
      "byteLimit": 2048000,
      "rowLimit": 10000
     },
     "inputWidgets": {},
     "nuid": "eb05ef05-be3a-46c9-9a0c-f99a5f3c2d35",
     "showTitle": false,
     "tableResultSettingsMap": {},
     "title": ""
    }
   },
   "outputs": [],
   "source": [
    "ord_cust_pymnt_df.write.mode(\"overwrite\").option(\"overwriteSchema\", \"true\").saveAsTable(\"adb_az_learner.silver.olist_joined\")"
   ]
  },
  {
   "cell_type": "code",
   "execution_count": 0,
   "metadata": {
    "application/vnd.databricks.v1+cell": {
     "cellMetadata": {
      "byteLimit": 2048000,
      "implicitDf": true,
      "rowLimit": 10000
     },
     "inputWidgets": {},
     "nuid": "384d0f43-29b9-40e2-a53e-b04f85720386",
     "showTitle": false,
     "tableResultSettingsMap": {},
     "title": ""
    }
   },
   "outputs": [],
   "source": [
    "ord_cust_pymnt_df.columns"
   ]
  },
  {
   "cell_type": "code",
   "execution_count": 0,
   "metadata": {
    "application/vnd.databricks.v1+cell": {
     "cellMetadata": {
      "byteLimit": 2048000,
      "implicitDf": true,
      "rowLimit": 10000
     },
     "inputWidgets": {},
     "nuid": "5a871a87-030a-4017-a18a-0e817a8511be",
     "showTitle": false,
     "tableResultSettingsMap": {},
     "title": ""
    }
   },
   "outputs": [],
   "source": [
    "from pyspark.sql.functions import date_format, col, sum as sum_f\n",
    "\n",
    "olist_joined = spark.read.table(\"adb_az_learner.silver.olist_joined\")\n",
    "\n",
    "\n",
    "\n"
   ]
  },
  {
   "cell_type": "code",
   "execution_count": 0,
   "metadata": {
    "application/vnd.databricks.v1+cell": {
     "cellMetadata": {
      "byteLimit": 2048000,
      "rowLimit": 10000
     },
     "inputWidgets": {},
     "nuid": "e2fce7a9-615b-403a-9837-72a5ab968dcb",
     "showTitle": false,
     "tableResultSettingsMap": {},
     "title": ""
    }
   },
   "outputs": [],
   "source": [
    "month_map = [\n",
    "    (\"01\", \"Jan\"), (\"02\", \"Feb\"), (\"03\", \"Mar\"), (\"04\", \"Apr\"), (\"05\", \"May\"), (\"06\", \"Jun\"),\n",
    "    (\"07\", \"Jul\"), (\"08\", \"Aug\"), (\"09\", \"Sep\"), (\"10\", \"Oct\"), (\"11\", \"Nov\"), (\"12\", \"Dec\")\n",
    "]\n",
    "\n",
    "month_map = spark.createDataFrame(month_map, [\"month\", \"month_name\"])\n",
    "\n",
    "monthly_sales = olist_joined.withColumn(\"order_purchase_month\", date_format(col(\"order_purchase_timestamp\"), \"MM\"))\\\n",
    "    .select(\"order_id\", \"order_purchase_month\", \"payment_value\")\\\n",
    "    .groupBy(\"order_purchase_month\")\\\n",
    "    .agg(sum_f(\"payment_value\").alias(\"total_sales\"))\\\n",
    "    .orderBy(\"order_purchase_month\")\n",
    "\n",
    "monthly_sales = monthly_sales.join(month_map, monthly_sales[\"order_purchase_month\"] == month_map[\"month\"], \"inner\").select(\"order_purchase_month\", \"month_name\", \"total_sales\").orderBy(\"order_purchase_month\")\n"
   ]
  },
  {
   "cell_type": "code",
   "execution_count": 0,
   "metadata": {
    "application/vnd.databricks.v1+cell": {
     "cellMetadata": {
      "byteLimit": 2048000,
      "rowLimit": 10000
     },
     "inputWidgets": {},
     "nuid": "2704b984-b2c7-4d21-821e-480a45e365f2",
     "showTitle": false,
     "tableResultSettingsMap": {
      "0": {
       "dataGridStateBlob": "{\"version\":1,\"tableState\":{\"columnPinning\":{\"left\":[\"#row_number#\"],\"right\":[]},\"columnSizing\":{},\"columnVisibility\":{}},\"settings\":{\"columns\":{}},\"syncTimestamp\":1758184397082}",
       "filterBlob": null,
       "queryPlanFiltersBlob": null,
       "tableResultIndex": 0
      }
     },
     "title": ""
    }
   },
   "outputs": [],
   "source": [
    "# monthly_sales.display()\n",
    "\n",
    "monthly_sales.createOrReplaceTempView(\"monthly_sales\")\n",
    "\n",
    "# spark.sql(\"\"\"\n",
    "#           create or replace view adb_az_learner.gold.vw_monthly_sales\n",
    "#           as\n",
    "# select * from monthly_sales\n",
    "#           \"\"\")\n"
   ]
  },
  {
   "cell_type": "code",
   "execution_count": 0,
   "metadata": {
    "application/vnd.databricks.v1+cell": {
     "cellMetadata": {
      "byteLimit": 2048000,
      "implicitDf": true,
      "rowLimit": 10000
     },
     "inputWidgets": {},
     "nuid": "8c990ae1-b331-40e7-ac05-ee2656dff2e8",
     "showTitle": false,
     "tableResultSettingsMap": {},
     "title": ""
    }
   },
   "outputs": [],
   "source": [
    "%sql\n",
    "\n",
    "create or replace table adb_az_learner.gold.vw_monthly_sales\n",
    "as\n",
    "select * from monthly_sales"
   ]
  },
  {
   "cell_type": "code",
   "execution_count": 0,
   "metadata": {
    "application/vnd.databricks.v1+cell": {
     "cellMetadata": {},
     "inputWidgets": {},
     "nuid": "12139df0-9dd1-4ea6-a9cd-df6b6742daed",
     "showTitle": false,
     "tableResultSettingsMap": {},
     "title": ""
    }
   },
   "outputs": [],
   "source": [
    "mon"
   ]
  }
 ],
 "metadata": {
  "application/vnd.databricks.v1+notebook": {
   "computePreferences": {
    "hardware": {
     "accelerator": null,
     "gpuPoolId": null,
     "memory": null
    }
   },
   "dashboards": [],
   "environmentMetadata": {
    "base_environment": "",
    "environment_version": "3"
   },
   "inputWidgetPreferences": null,
   "language": "python",
   "notebookMetadata": {
    "mostRecentlyExecutedCommandWithImplicitDF": {
     "commandId": 7922130171597328,
     "dataframes": [
      "_sqldf"
     ]
    },
    "pythonIndentUnit": 4
   },
   "notebookName": "ingest_Data",
   "widgets": {}
  },
  "language_info": {
   "name": "python"
  }
 },
 "nbformat": 4,
 "nbformat_minor": 0
}
